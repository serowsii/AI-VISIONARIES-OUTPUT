{
 "cells": [
  {
   "cell_type": "code",
   "execution_count": 25,
   "id": "97ddd862",
   "metadata": {},
   "outputs": [
    {
     "data": {
      "text/html": [
       "<div>\n",
       "<style scoped>\n",
       "    .dataframe tbody tr th:only-of-type {\n",
       "        vertical-align: middle;\n",
       "    }\n",
       "\n",
       "    .dataframe tbody tr th {\n",
       "        vertical-align: top;\n",
       "    }\n",
       "\n",
       "    .dataframe thead th {\n",
       "        text-align: right;\n",
       "    }\n",
       "</style>\n",
       "<table border=\"1\" class=\"dataframe\">\n",
       "  <thead>\n",
       "    <tr style=\"text-align: right;\">\n",
       "      <th></th>\n",
       "      <th>Gender</th>\n",
       "      <th>Age</th>\n",
       "      <th>Race</th>\n",
       "      <th>Education</th>\n",
       "      <th>Platform</th>\n",
       "      <th>AI_usage</th>\n",
       "      <th>AI_usage_frequency</th>\n",
       "      <th>Response_time</th>\n",
       "      <th>Accuracy</th>\n",
       "      <th>Quality</th>\n",
       "      <th>...</th>\n",
       "      <th>Bias_category</th>\n",
       "      <th>Harmful_content</th>\n",
       "      <th>Harmful_content_type</th>\n",
       "      <th>Security</th>\n",
       "      <th>Overall_performance</th>\n",
       "      <th>New_features</th>\n",
       "      <th>Improvement</th>\n",
       "      <th>Ethical_considerations</th>\n",
       "      <th>Voice_assistants</th>\n",
       "      <th>Mimic_accent</th>\n",
       "    </tr>\n",
       "  </thead>\n",
       "  <tbody>\n",
       "    <tr>\n",
       "      <th>0</th>\n",
       "      <td>Female</td>\n",
       "      <td>18-24</td>\n",
       "      <td>African</td>\n",
       "      <td>Bachelor's degree</td>\n",
       "      <td>Chat GPT (Open AI)</td>\n",
       "      <td>No</td>\n",
       "      <td>Occasionally</td>\n",
       "      <td>16-20</td>\n",
       "      <td>2</td>\n",
       "      <td>3</td>\n",
       "      <td>...</td>\n",
       "      <td>NaN</td>\n",
       "      <td>No</td>\n",
       "      <td>NaN</td>\n",
       "      <td>No</td>\n",
       "      <td>4</td>\n",
       "      <td>NaN</td>\n",
       "      <td>NaN</td>\n",
       "      <td>NaN</td>\n",
       "      <td>Google Assistant</td>\n",
       "      <td>Yes</td>\n",
       "    </tr>\n",
       "    <tr>\n",
       "      <th>1</th>\n",
       "      <td>Female</td>\n",
       "      <td>18-24</td>\n",
       "      <td>African</td>\n",
       "      <td>Bachelor's degree</td>\n",
       "      <td>Chat GPT (Open AI)</td>\n",
       "      <td>No</td>\n",
       "      <td>Occasionally</td>\n",
       "      <td>1-5</td>\n",
       "      <td>4</td>\n",
       "      <td>4</td>\n",
       "      <td>...</td>\n",
       "      <td>NaN</td>\n",
       "      <td>No</td>\n",
       "      <td>NaN</td>\n",
       "      <td>Yes</td>\n",
       "      <td>5</td>\n",
       "      <td>NaN</td>\n",
       "      <td>NaN</td>\n",
       "      <td>Age limit</td>\n",
       "      <td>Alexa</td>\n",
       "      <td>No</td>\n",
       "    </tr>\n",
       "    <tr>\n",
       "      <th>2</th>\n",
       "      <td>Female</td>\n",
       "      <td>18-24</td>\n",
       "      <td>African</td>\n",
       "      <td>Bachelor's degree</td>\n",
       "      <td>Chat GPT (Open AI)</td>\n",
       "      <td>Yes</td>\n",
       "      <td>Daily</td>\n",
       "      <td>6-10</td>\n",
       "      <td>4</td>\n",
       "      <td>5</td>\n",
       "      <td>...</td>\n",
       "      <td>NaN</td>\n",
       "      <td>Yes</td>\n",
       "      <td>Deepfakes</td>\n",
       "      <td>No</td>\n",
       "      <td>4</td>\n",
       "      <td>-</td>\n",
       "      <td>Collect more information especially for ethnic...</td>\n",
       "      <td>Data security</td>\n",
       "      <td>Siri, Bixby</td>\n",
       "      <td>Yes</td>\n",
       "    </tr>\n",
       "    <tr>\n",
       "      <th>3</th>\n",
       "      <td>Male</td>\n",
       "      <td>35-44</td>\n",
       "      <td>African</td>\n",
       "      <td>Master's degree</td>\n",
       "      <td>Chat GPT (Open AI)</td>\n",
       "      <td>Yes</td>\n",
       "      <td>Daily</td>\n",
       "      <td>6-10</td>\n",
       "      <td>3</td>\n",
       "      <td>3</td>\n",
       "      <td>...</td>\n",
       "      <td>NaN</td>\n",
       "      <td>Yes</td>\n",
       "      <td>Misinformation</td>\n",
       "      <td>Yes</td>\n",
       "      <td>3</td>\n",
       "      <td>NaN</td>\n",
       "      <td>NaN</td>\n",
       "      <td>NaN</td>\n",
       "      <td>NaN</td>\n",
       "      <td>NaN</td>\n",
       "    </tr>\n",
       "    <tr>\n",
       "      <th>4</th>\n",
       "      <td>Male</td>\n",
       "      <td>18-24</td>\n",
       "      <td>African</td>\n",
       "      <td>Bachelor's degree</td>\n",
       "      <td>Chat GPT (Open AI)</td>\n",
       "      <td>Yes</td>\n",
       "      <td>Daily</td>\n",
       "      <td>6-10</td>\n",
       "      <td>3</td>\n",
       "      <td>4</td>\n",
       "      <td>...</td>\n",
       "      <td>Cultural</td>\n",
       "      <td>Yes</td>\n",
       "      <td>Misinformation</td>\n",
       "      <td>No</td>\n",
       "      <td>4</td>\n",
       "      <td>Being able to create visualizations</td>\n",
       "      <td>Being trained with  data from different catego...</td>\n",
       "      <td>Data security</td>\n",
       "      <td>Siri</td>\n",
       "      <td>Yes</td>\n",
       "    </tr>\n",
       "  </tbody>\n",
       "</table>\n",
       "<p>5 rows × 22 columns</p>\n",
       "</div>"
      ],
      "text/plain": [
       "   Gender   Age     Race          Education             Platform AI_usage   \\\n",
       "0  Female  18-24  African  Bachelor's degree  Chat GPT (Open AI)        No   \n",
       "1  Female  18-24  African  Bachelor's degree  Chat GPT (Open AI)        No   \n",
       "2  Female  18-24  African  Bachelor's degree  Chat GPT (Open AI)       Yes   \n",
       "3    Male  35-44  African    Master's degree  Chat GPT (Open AI)       Yes   \n",
       "4    Male  18-24  African  Bachelor's degree  Chat GPT (Open AI)       Yes   \n",
       "\n",
       "   AI_usage_frequency  Response_time   Accuracy   Quality   ...  \\\n",
       "0         Occasionally          16-20         2          3  ...   \n",
       "1         Occasionally            1-5         4          4  ...   \n",
       "2                Daily           6-10         4          5  ...   \n",
       "3                Daily           6-10         3          3  ...   \n",
       "4                Daily           6-10         3          4  ...   \n",
       "\n",
       "  Bias_category  Harmful_content  Harmful_content_type  Security  \\\n",
       "0            NaN               No                   NaN       No   \n",
       "1            NaN               No                   NaN      Yes   \n",
       "2            NaN              Yes             Deepfakes       No   \n",
       "3            NaN              Yes        Misinformation      Yes   \n",
       "4       Cultural              Yes        Misinformation       No   \n",
       "\n",
       "  Overall_performance                         New_features   \\\n",
       "0                    4                                  NaN   \n",
       "1                    5                                  NaN   \n",
       "2                    4                                    -   \n",
       "3                    3                                  NaN   \n",
       "4                    4  Being able to create visualizations   \n",
       "\n",
       "                                        Improvement   \\\n",
       "0                                                NaN   \n",
       "1                                                NaN   \n",
       "2  Collect more information especially for ethnic...   \n",
       "3                                                NaN   \n",
       "4  Being trained with  data from different catego...   \n",
       "\n",
       "    Ethical_considerations    Voice_assistants    Mimic_accent   \n",
       "0                       NaN    Google Assistant             Yes  \n",
       "1                 Age limit               Alexa              No  \n",
       "2             Data security         Siri, Bixby             Yes  \n",
       "3                       NaN                 NaN             NaN  \n",
       "4             Data security                Siri             Yes  \n",
       "\n",
       "[5 rows x 22 columns]"
      ]
     },
     "execution_count": 25,
     "metadata": {},
     "output_type": "execute_result"
    }
   ],
   "source": [
    "import pandas as pd\n",
    "#starting with preprocessed & cleaned data\n",
    "\n",
    "# Load the dataset\n",
    "file_path = r'C:\\Users\\Trish\\Downloads\\Data (1).xlsx'\n",
    "df = pd.read_excel(file_path)\n",
    "\n",
    "#clean data by removing any leading and trailing spaces\n",
    "df.columns = df.columns.str.strip()\n",
    "\n",
    "# Inspect the first few rows of the data\n",
    "df.head()"
   ]
  },
  {
   "cell_type": "code",
   "execution_count": 12,
   "id": "fac1d1c7",
   "metadata": {},
   "outputs": [
    {
     "data": {
      "image/png": "[encoded data removed]",
      "text/plain": [
       "<Figure size 640x480 with 1 Axes>"
      ]
     },
     "metadata": {},
     "output_type": "display_data"
    }
   ],
   "source": [
    "# Analyze the gender distribution\n",
    "gender_counts = df['Gender'].value_counts()\n",
    "\n",
    "# Visualize the gender distribution\n",
    "import matplotlib.pyplot as plt\n",
    "\n",
    "gender_counts.plot(kind='bar', color=['pink', 'blue'])\n",
    "plt.title('Gender Representation in AI Usage')\n",
    "plt.xlabel('Gender')\n",
    "plt.ylabel('Count')\n",
    "plt.show()\n"
   ]
  },
  {
   "cell_type": "markdown",
   "id": "a179e844",
   "metadata": {},
   "source": [
    "From the results above, we cannot go by gender count alone to prove the disparity in gender representation in GPT usage because the females are slightly more than the male in our dataset.\n",
    "\n",
    "This can be explained by the fact that our team is composed of only females and our networks are majorly female hence the questionnaire was a bit more skewed towards the female gender.\n",
    "\n",
    "That said, there are other instances in the dataset that will prove the glaring gap in the adoption of GPTs by the african race, especially the female gender.\n",
    "\n",
    "We intend to collect more data in the future and publish a paper to empower more women, especially of the africanrace, to utilize generative AI, bridge the gender gap, and raise awareness about the potential biases and harms associated with these systems.   "
   ]
  },
  {
   "cell_type": "markdown",
   "id": "c5e78c8e",
   "metadata": {},
   "source": [
    "# Average AI Usage Frequency by Gender"
   ]
  },
  {
   "cell_type": "code",
   "execution_count": 15,
   "id": "60b446ee",
   "metadata": {},
   "outputs": [
    {
     "data": {
      "text/html": [
       "<div>\n",
       "<style scoped>\n",
       "    .dataframe tbody tr th:only-of-type {\n",
       "        vertical-align: middle;\n",
       "    }\n",
       "\n",
       "    .dataframe tbody tr th {\n",
       "        vertical-align: top;\n",
       "    }\n",
       "\n",
       "    .dataframe thead th {\n",
       "        text-align: right;\n",
       "    }\n",
       "</style>\n",
       "<table border=\"1\" class=\"dataframe\">\n",
       "  <thead>\n",
       "    <tr style=\"text-align: right;\">\n",
       "      <th></th>\n",
       "      <th>AI_usage_frequency</th>\n",
       "      <th>AI_usage_frequency_numeric</th>\n",
       "    </tr>\n",
       "  </thead>\n",
       "  <tbody>\n",
       "    <tr>\n",
       "      <th>0</th>\n",
       "      <td>Occasionally</td>\n",
       "      <td>3</td>\n",
       "    </tr>\n",
       "    <tr>\n",
       "      <th>1</th>\n",
       "      <td>Occasionally</td>\n",
       "      <td>3</td>\n",
       "    </tr>\n",
       "    <tr>\n",
       "      <th>2</th>\n",
       "      <td>Daily</td>\n",
       "      <td>5</td>\n",
       "    </tr>\n",
       "    <tr>\n",
       "      <th>3</th>\n",
       "      <td>Daily</td>\n",
       "      <td>5</td>\n",
       "    </tr>\n",
       "    <tr>\n",
       "      <th>4</th>\n",
       "      <td>Daily</td>\n",
       "      <td>5</td>\n",
       "    </tr>\n",
       "  </tbody>\n",
       "</table>\n",
       "</div>"
      ],
      "text/plain": [
       "  AI_usage_frequency  AI_usage_frequency_numeric\n",
       "0       Occasionally                           3\n",
       "1       Occasionally                           3\n",
       "2              Daily                           5\n",
       "3              Daily                           5\n",
       "4              Daily                           5"
      ]
     },
     "execution_count": 15,
     "metadata": {},
     "output_type": "execute_result"
    }
   ],
   "source": [
    "\n",
    "# Mapping for AI usage frequency\n",
    "frequency_mapping = {\n",
    "    'Daily': 4,\n",
    "    'Weekly': 3,\n",
    "    'Occasionally': 2,\n",
    "    'Monthly': 1\n",
    "}\n",
    "\n",
    "# Apply the mapping to the 'AI_usage_frequency' column\n",
    "df['AI_usage_frequency_numeric'] = df['AI_usage_frequency'].map(frequency_mapping)\n",
    "\n",
    "# Inspect the updated DataFrame with the numeric values\n",
    "df[['AI_usage_frequency', 'AI_usage_frequency_numeric']].head()\n"
   ]
  },
  {
   "cell_type": "code",
   "execution_count": 17,
   "id": "a5d97f7d",
   "metadata": {},
   "outputs": [
    {
     "data": {
      "image/png": "[encoded data removed]",
      "text/plain": [
       "<Figure size 640x480 with 1 Axes>"
      ]
     },
     "metadata": {},
     "output_type": "display_data"
    }
   ],
   "source": [
    "# Group by gender and calculate the average AI usage frequency\n",
    "usage_by_gender = df.groupby('Gender')['AI_usage_frequency_numeric'].mean()\n",
    "\n",
    "# Visualize the average AI usage frequency by gender\n",
    "import matplotlib.pyplot as plt\n",
    "\n",
    "usage_by_gender.plot(kind='bar', color=['pink', 'blue'])\n",
    "plt.title('Average AI Usage Frequency by Gender')\n",
    "plt.xlabel('Gender')\n",
    "plt.ylabel('Average Usage Frequency (1=Monthly, 5=Daily)')\n",
    "plt.show()\n"
   ]
  },
  {
   "cell_type": "markdown",
   "id": "04ddd057",
   "metadata": {},
   "source": [
    "Going by the mean, more males use Generative AI frequently in comparison to females.\n",
    "\n",
    "However, the visualization above is not enough as the differences are still very slight. "
   ]
  },
  {
   "cell_type": "markdown",
   "id": "fce3edc0",
   "metadata": {},
   "source": [
    "# T-test"
   ]
  },
  {
   "cell_type": "code",
   "execution_count": 18,
   "id": "2ae26832",
   "metadata": {},
   "outputs": [
    {
     "name": "stdout",
     "output_type": "stream",
     "text": [
      "T-statistic: 1.371396216967568, P-value: 0.17296861554541318\n"
     ]
    }
   ],
   "source": [
    "from scipy import stats\n",
    "\n",
    "# Separate AI usage frequency by gender\n",
    "male_usage_freq = df[df['Gender'] == 'Male']['AI_usage_frequency_numeric']\n",
    "female_usage_freq = df[df['Gender'] == 'Female']['AI_usage_frequency_numeric']\n",
    "\n",
    "# Perform the t-test\n",
    "t_stat, p_value = stats.ttest_ind(male_usage_freq, female_usage_freq)\n",
    "\n",
    "print(f\"T-statistic: {t_stat}, P-value: {p_value}\")\n"
   ]
  },
  {
   "cell_type": "markdown",
   "id": "be77c49f",
   "metadata": {},
   "source": [
    "The p_value is greater than 0.05...actually, it is way higher. Unfortunately this does not show a significant disparity.\n",
    "\n",
    "The T-test here uses continous variables (numeric). \n",
    "\n",
    "Next step was to try another statistical test that uses categorical variables.\n"
   ]
  },
  {
   "cell_type": "markdown",
   "id": "393533e2",
   "metadata": {},
   "source": [
    "# Chi-Square Test"
   ]
  },
  {
   "cell_type": "code",
   "execution_count": 19,
   "id": "101fe13f",
   "metadata": {},
   "outputs": [
    {
     "name": "stdout",
     "output_type": "stream",
     "text": [
      "Chi-Square Statistic: 5.0205940452916265, P-value: 0.02504757451632235\n"
     ]
    }
   ],
   "source": [
    "from scipy.stats import chi2_contingency\n",
    "\n",
    "# Cross-tabulate gender and AI usage (yes/no)\n",
    "contingency_table = pd.crosstab(df['Gender'], df['AI_usage'])\n",
    "\n",
    "# Perform chi-square test\n",
    "chi2, p, dof, ex = chi2_contingency(contingency_table)\n",
    "\n",
    "print(f\"Chi-Square Statistic: {chi2}, P-value: {p}\")\n"
   ]
  },
  {
   "cell_type": "markdown",
   "id": "c1b17c14",
   "metadata": {},
   "source": [
    "This test measures how much the observed frequencies deviate from the expected frequencies (if there were no relationship between the variables).\n",
    "A larger value indicates a greater difference between the observed and expected frequencies.\n",
    "\n",
    "The **Chi-square test** is a better interpretation of the relationship between the gender of the users and their likelihood to use AI.\n",
    "\n",
    "Chi-Square Statistic of 5.0205940452916265 indicates that there is a significant relationship between the gender of the user and their likelihood to use AI.\n",
    "\n",
    "The **P-value** is under 0.05 which indicates a significant disparity. \n",
    "\n",
    "Now that we are onto something, we test how the results are skewed to a certain gender.\n",
    "\n",
    "\n",
    "\n"
   ]
  },
  {
   "cell_type": "code",
   "execution_count": 21,
   "id": "a7978f99",
   "metadata": {},
   "outputs": [
    {
     "name": "stdout",
     "output_type": "stream",
     "text": [
      "Optimization terminated successfully.\n",
      "         Current function value: 0.556002\n",
      "         Iterations 6\n",
      "                           Logit Regression Results                           \n",
      "==============================================================================\n",
      "Dep. Variable:       AI_usage_encoded   No. Observations:                  115\n",
      "Model:                          Logit   Df Residuals:                      113\n",
      "Method:                           MLE   Df Model:                            1\n",
      "Date:                Thu, 10 Oct 2024   Pseudo R-squ.:                 0.04602\n",
      "Time:                        10:53:58   Log-Likelihood:                -63.940\n",
      "converged:                       True   LL-Null:                       -67.025\n",
      "Covariance Type:            nonrobust   LLR p-value:                   0.01300\n",
      "==================================================================================\n",
      "                     coef    std err          z      P>|z|      [0.025      0.975]\n",
      "----------------------------------------------------------------------------------\n",
      "const              1.6314      0.364      4.476      0.000       0.917       2.346\n",
      "Gender_encoded    -1.0849      0.452     -2.398      0.016      -1.971      -0.198\n",
      "==================================================================================\n"
     ]
    }
   ],
   "source": [
    "import statsmodels.api as sm\n",
    "\n",
    "# Encode categorical variables\n",
    "df['Gender_encoded'] = df['Gender'].apply(lambda x: 1 if x == 'Female' else 0)  \n",
    "df['AI_usage_encoded'] = df['AI_usage'].apply(lambda x: 1 if x == 'Yes' else 0) \n",
    "\n",
    "# Define independent and dependent variables\n",
    "X = df[['Gender_encoded']]\n",
    "y = df['AI_usage_encoded']\n",
    "\n",
    "# Add constant to predictor variables\n",
    "X = sm.add_constant(X)\n",
    "\n",
    "# Fit the logistic regression model\n",
    "logit_model = sm.Logit(y, X)\n",
    "result = logit_model.fit()\n",
    "\n",
    "# Summary of the regression results\n",
    "print(result.summary())\n"
   ]
  },
  {
   "cell_type": "markdown",
   "id": "4d139d50",
   "metadata": {},
   "source": [
    "I have done an improved version of this code below because it was easier for me to interpret the oods ratio than it was to interpret the logs odd ratio in the regression results above."
   ]
  },
  {
   "cell_type": "code",
   "execution_count": 26,
   "id": "d795bb04",
   "metadata": {},
   "outputs": [
    {
     "name": "stdout",
     "output_type": "stream",
     "text": [
      "Optimization terminated successfully.\n",
      "         Current function value: 0.553061\n",
      "         Iterations 6\n",
      "                           Logit Regression Results                           \n",
      "==============================================================================\n",
      "Dep. Variable:       AI_usage_encoded   No. Observations:                  115\n",
      "Model:                          Logit   Df Residuals:                      111\n",
      "Method:                           MLE   Df Model:                            3\n",
      "Date:                Thu, 10 Oct 2024   Pseudo R-squ.:                 0.05107\n",
      "Time:                        11:11:36   Log-Likelihood:                -63.602\n",
      "converged:                       True   LL-Null:                       -67.025\n",
      "Covariance Type:            nonrobust   LLR p-value:                   0.07698\n",
      "====================================================================================\n",
      "                       coef    std err          z      P>|z|      [0.025      0.975]\n",
      "------------------------------------------------------------------------------------\n",
      "const                0.8149      1.135      0.718      0.473      -1.410       3.040\n",
      "Gender_encoded      -1.1229      0.457     -2.457      0.014      -2.019      -0.227\n",
      "Accuracy             0.2424      0.302      0.804      0.422      -0.349       0.834\n",
      "Security_encoded    -0.1592      0.448     -0.355      0.723      -1.038       0.720\n",
      "====================================================================================\n",
      "\n",
      "Odds Ratios:\n",
      " const               2.258874\n",
      "Gender_encoded      0.325347\n",
      "Accuracy            1.274323\n",
      "Security_encoded    0.852784\n",
      "dtype: float64\n"
     ]
    }
   ],
   "source": [
    "import pandas as pd\n",
    "import statsmodels.api as sm\n",
    "import numpy as np\n",
    "\n",
    "# Encode categorical variables\n",
    "df['Gender_encoded'] = df['Gender'].apply(lambda x: 1 if x == 'Female' else 0)  \n",
    "df['AI_usage_encoded'] = df['AI_usage'].apply(lambda x: 1 if x == 'Yes' else 0)  \n",
    "df['Security_encoded'] = df['Security'].apply(lambda x: 1 if x == 'Yes' else 0)\n",
    "\n",
    "# Define independent and dependent variables\n",
    "X = df[['Gender_encoded', 'Accuracy', 'Security_encoded']]\n",
    "y = df['AI_usage_encoded']\n",
    "\n",
    "# Add constant to predictor variables\n",
    "X = sm.add_constant(X)\n",
    "\n",
    "# Fit the logistic regression model\n",
    "logit_model = sm.Logit(y, X)\n",
    "result = logit_model.fit()\n",
    "\n",
    "# Summary of the regression results\n",
    "print(result.summary())\n",
    "\n",
    "# Calculate and display odds ratios\n",
    "odds_ratios = np.exp(result.params)\n",
    "print(\"\\nOdds Ratios:\\n\", odds_ratios)\n"
   ]
  },
  {
   "cell_type": "markdown",
   "id": "916194ce",
   "metadata": {},
   "source": [
    "The results from adding variables like security and Accuracy were not as statistically significant so I did a different code with Gender and AI_usage variables only"
   ]
  },
  {
   "cell_type": "code",
   "execution_count": 27,
   "id": "de32e755",
   "metadata": {},
   "outputs": [
    {
     "name": "stdout",
     "output_type": "stream",
     "text": [
      "Optimization terminated successfully.\n",
      "         Current function value: 0.556002\n",
      "         Iterations 6\n",
      "                           Logit Regression Results                           \n",
      "==============================================================================\n",
      "Dep. Variable:       AI_usage_encoded   No. Observations:                  115\n",
      "Model:                          Logit   Df Residuals:                      113\n",
      "Method:                           MLE   Df Model:                            1\n",
      "Date:                Thu, 10 Oct 2024   Pseudo R-squ.:                 0.04602\n",
      "Time:                        11:16:44   Log-Likelihood:                -63.940\n",
      "converged:                       True   LL-Null:                       -67.025\n",
      "Covariance Type:            nonrobust   LLR p-value:                   0.01300\n",
      "==================================================================================\n",
      "                     coef    std err          z      P>|z|      [0.025      0.975]\n",
      "----------------------------------------------------------------------------------\n",
      "const              1.6314      0.364      4.476      0.000       0.917       2.346\n",
      "Gender_encoded    -1.0849      0.452     -2.398      0.016      -1.971      -0.198\n",
      "==================================================================================\n",
      "\n",
      "Odds Ratios:\n",
      "const             5.111\n",
      "Gender_encoded    0.338\n",
      "dtype: float64\n"
     ]
    }
   ],
   "source": [
    "# Encode categorical variables\n",
    "df['Gender_encoded'] = df['Gender'].apply(lambda x: 1 if x == 'Female' else 0)  \n",
    "df['AI_usage_encoded'] = df['AI_usage'].apply(lambda x: 1 if x == 'Yes' else 0) \n",
    "\n",
    "# Define independent and dependent variables \n",
    "X = df[['Gender_encoded']] \n",
    "y = df['AI_usage_encoded']\n",
    "\n",
    "# Add constant to predictor variables\n",
    "X = sm.add_constant(X)\n",
    "\n",
    "# Fit the logistic regression model\n",
    "logit_model = sm.Logit(y, X)\n",
    "result = logit_model.fit()\n",
    "\n",
    "# Summary of the regression results\n",
    "print(result.summary())\n",
    "\n",
    "# Calculate Odds Ratios\n",
    "odds_ratios = pd.Series(result.params).apply(lambda x: round(np.exp(x), 3))\n",
    "print(\"\\nOdds Ratios:\")\n",
    "print(odds_ratios)"
   ]
  },
  {
   "cell_type": "markdown",
   "id": "f920e4b4",
   "metadata": {},
   "source": [
    "The logistic regression gives a better insight into the likelihood of using AI based on gender.\n",
    "\n",
    "To note: Gender encoded variable is the female gender\n",
    "\n",
    "The p-value for the Gender_encoded variable is **0.016**, which is less than the common significance level of 0.05. This suggests that the gender variable is statistically significant in predicting AI usage, meaning that there is evidence to reject the null hypothesis that gender has no effect on AI usage.\n",
    "\n",
    "The Odds Ratio for Gender_encoded  is **0.338** which means that females are less likely to use AI compared to males when other factors like Age and Education are held constant. Females have about **66.2%** lower odds of using AI compared to males.\n"
   ]
  },
  {
   "cell_type": "markdown",
   "id": "b3a121e8",
   "metadata": {},
   "source": [
    "Now that we have proven that Males are more likely to use age than females, the next step is to work on the biases experienced in AI usage by Africans."
   ]
  },
  {
   "cell_type": "code",
   "execution_count": 28,
   "id": "f35764c6",
   "metadata": {},
   "outputs": [
    {
     "data": {
      "image/png": "[encoded data removed]",
      "text/plain": [
       "<Figure size 640x480 with 1 Axes>"
      ]
     },
     "metadata": {},
     "output_type": "display_data"
    }
   ],
   "source": [
    "# Group by gender and analyze bias occurrence\n",
    "bias_by_gender = df.groupby('Gender')['Bias'].value_counts()\n",
    "\n",
    "# Visualize the bias reports by gender\n",
    "bias_by_gender.unstack().plot(kind='bar', stacked=True)\n",
    "plt.title('Bias Reports by Gender in AI Usage')\n",
    "plt.xlabel('Gender')\n",
    "plt.ylabel('Count of Bias Reports')\n",
    "plt.show()\n"
   ]
  },
  {
   "cell_type": "code",
   "execution_count": 32,
   "id": "9c10fc3c",
   "metadata": {},
   "outputs": [
    {
     "data": {
      "image/png": "[encoded data removed]",
      "text/plain": [
       "<Figure size 800x500 with 1 Axes>"
      ]
     },
     "metadata": {},
     "output_type": "display_data"
    }
   ],
   "source": [
    "# Define the mapping from satisfaction levels to numerical scores\n",
    "satisfaction_mapping = {\n",
    "    'Very dissatisfied': 1,\n",
    "    'Dissatisfied': 2,\n",
    "    'Neutral': 3,\n",
    "    'Satisfied': 4,\n",
    "    'Very satisfied': 5\n",
    "}\n",
    "\n",
    "# Map the Satisfaction column to numerical scores\n",
    "df['Satisfaction_numeric'] = df['Satisfaction'].map(satisfaction_mapping)\n",
    "\n",
    "# Check for any unmapped values\n",
    "unmapped_values = df['Satisfaction'][df['Satisfaction_numeric'].isnull()].unique()\n",
    "if len(unmapped_values) > 0:\n",
    "    print(\"Unmapped Satisfaction Levels:\", unmapped_values)\n",
    "\n",
    "# Calculate the average satisfaction score by gender\n",
    "satisfaction_by_gender = df.groupby('Gender')['Satisfaction_numeric'].mean()\n",
    "\n",
    "# Visualize the average satisfaction by gender\n",
    "import matplotlib.pyplot as plt\n",
    "\n",
    "plt.figure(figsize=(8, 5))\n",
    "satisfaction_by_gender.plot(kind='bar', color=['pink', 'blue'])\n",
    "plt.title('Average Satisfaction with AI Tools by Gender')\n",
    "plt.xlabel('Gender')\n",
    "plt.ylabel('Average Satisfaction Score')\n",
    "plt.xticks(rotation=0)\n",
    "plt.ylim(1, 5)  # Set y-axis limits to match the satisfaction scale\n",
    "plt.grid(axis='y', linestyle='--', alpha=0.7)\n",
    "plt.show()\n"
   ]
  },
  {
   "cell_type": "markdown",
   "id": "19141ec4",
   "metadata": {},
   "source": [
    "From the above satisfaction score, Male users are, on average, more satisfied than the female users of GPTs."
   ]
  },
  {
   "cell_type": "code",
   "execution_count": 35,
   "id": "dd94c718",
   "metadata": {},
   "outputs": [
    {
     "name": "stdout",
     "output_type": "stream",
     "text": [
      "Collecting textblob\n",
      "  Downloading textblob-0.18.0.post0-py3-none-any.whl.metadata (4.5 kB)\n",
      "Requirement already satisfied: nltk>=3.8 in c:\\users\\trish\\anaconda3\\lib\\site-packages (from textblob) (3.8.1)\n",
      "Requirement already satisfied: click in c:\\users\\trish\\anaconda3\\lib\\site-packages (from nltk>=3.8->textblob) (8.0.4)\n",
      "Requirement already satisfied: joblib in c:\\users\\trish\\anaconda3\\lib\\site-packages (from nltk>=3.8->textblob) (1.2.0)\n",
      "Requirement already satisfied: regex>=2021.8.3 in c:\\users\\trish\\anaconda3\\lib\\site-packages (from nltk>=3.8->textblob) (2022.7.9)\n",
      "Requirement already satisfied: tqdm in c:\\users\\trish\\anaconda3\\lib\\site-packages (from nltk>=3.8->textblob) (4.65.0)\n",
      "Requirement already satisfied: colorama in c:\\users\\trish\\anaconda3\\lib\\site-packages (from click->nltk>=3.8->textblob) (0.4.6)\n",
      "Downloading textblob-0.18.0.post0-py3-none-any.whl (626 kB)\n",
      "   ---------------------------------------- 0.0/626.3 kB ? eta -:--:--\n",
      "    --------------------------------------- 10.2/626.3 kB ? eta -:--:--\n",
      "   - ------------------------------------- 30.7/626.3 kB 445.2 kB/s eta 0:00:02\n",
      "   ----- --------------------------------- 81.9/626.3 kB 657.6 kB/s eta 0:00:01\n",
      "   --------- ---------------------------- 163.8/626.3 kB 984.6 kB/s eta 0:00:01\n",
      "   ----------------- ---------------------- 276.5/626.3 kB 1.3 MB/s eta 0:00:01\n",
      "   ------------------------------- -------- 491.5/626.3 kB 1.9 MB/s eta 0:00:01\n",
      "   ---------------------------------------- 626.3/626.3 kB 2.1 MB/s eta 0:00:00\n",
      "Installing collected packages: textblob\n",
      "Successfully installed textblob-0.18.0.post0\n",
      "Note: you may need to restart the kernel to use updated packages.\n"
     ]
    },
    {
     "name": "stderr",
     "output_type": "stream",
     "text": [
      "\n",
      "[notice] A new release of pip is available: 24.0 -> 24.2\n",
      "[notice] To update, run: python.exe -m pip install --upgrade pip\n"
     ]
    }
   ],
   "source": [
    "pip install textblob\n"
   ]
  },
  {
   "cell_type": "code",
   "execution_count": 39,
   "id": "9666d216",
   "metadata": {},
   "outputs": [
    {
     "data": {
      "image/png": "[encoded data removed]",
      "text/plain": [
       "<Figure size 640x480 with 1 Axes>"
      ]
     },
     "metadata": {},
     "output_type": "display_data"
    }
   ],
   "source": [
    "from textblob import TextBlob\n",
    "\n",
    "# Function to calculate sentiment polarity\n",
    "def get_sentiment(text):\n",
    "    return TextBlob(text).sentiment.polarity\n",
    "\n",
    "# Apply sentiment analysis on the Satisfaction column\n",
    "df['sentiment'] = df['Satisfaction'].apply(get_sentiment)\n",
    "\n",
    "# Group sentiment by gender\n",
    "sentiment_by_gender = df.groupby('Gender')['sentiment'].mean()\n",
    "\n",
    "# Visualize the average sentiment score by gender\n",
    "sentiment_by_gender.plot(kind='bar', color=['pink', 'blue'])\n",
    "plt.title('Average Sentiment of Satisfaction by Gender')\n",
    "plt.xlabel('Gender')\n",
    "plt.ylabel('Average Sentiment Score')\n",
    "plt.show()\n"
   ]
  },
  {
   "cell_type": "markdown",
   "id": "87f39dda",
   "metadata": {},
   "source": [
    "The sentiment analysis using the TextBlob module supports the satisfaction analysis we did above. More male users are satisfied by GPTs in comparison to their female counterparts."
   ]
  },
  {
   "cell_type": "code",
   "execution_count": 49,
   "id": "ae3addb9",
   "metadata": {},
   "outputs": [
    {
     "name": "stdout",
     "output_type": "stream",
     "text": [
      "Collecting wordcloud\n",
      "  Downloading wordcloud-1.9.3-cp311-cp311-win_amd64.whl.metadata (3.5 kB)\n",
      "Requirement already satisfied: numpy>=1.6.1 in c:\\users\\trish\\anaconda3\\lib\\site-packages (from wordcloud) (1.24.3)\n",
      "Requirement already satisfied: pillow in c:\\users\\trish\\anaconda3\\lib\\site-packages (from wordcloud) (9.4.0)\n",
      "Requirement already satisfied: matplotlib in c:\\users\\trish\\anaconda3\\lib\\site-packages (from wordcloud) (3.7.2)\n",
      "Requirement already satisfied: contourpy>=1.0.1 in c:\\users\\trish\\anaconda3\\lib\\site-packages (from matplotlib->wordcloud) (1.0.5)\n",
      "Requirement already satisfied: cycler>=0.10 in c:\\users\\trish\\anaconda3\\lib\\site-packages (from matplotlib->wordcloud) (0.11.0)\n",
      "Requirement already satisfied: fonttools>=4.22.0 in c:\\users\\trish\\anaconda3\\lib\\site-packages (from matplotlib->wordcloud) (4.25.0)\n",
      "Requirement already satisfied: kiwisolver>=1.0.1 in c:\\users\\trish\\anaconda3\\lib\\site-packages (from matplotlib->wordcloud) (1.4.4)\n",
      "Requirement already satisfied: packaging>=20.0 in c:\\users\\trish\\anaconda3\\lib\\site-packages (from matplotlib->wordcloud) (23.1)\n",
      "Requirement already satisfied: pyparsing<3.1,>=2.3.1 in c:\\users\\trish\\anaconda3\\lib\\site-packages (from matplotlib->wordcloud) (3.0.9)\n",
      "Requirement already satisfied: python-dateutil>=2.7 in c:\\users\\trish\\anaconda3\\lib\\site-packages (from matplotlib->wordcloud) (2.8.2)\n",
      "Requirement already satisfied: six>=1.5 in c:\\users\\trish\\anaconda3\\lib\\site-packages (from python-dateutil>=2.7->matplotlib->wordcloud) (1.16.0)\n",
      "Downloading wordcloud-1.9.3-cp311-cp311-win_amd64.whl (300 kB)\n",
      "   ---------------------------------------- 0.0/300.2 kB ? eta -:--:--\n",
      "   - -------------------------------------- 10.2/300.2 kB ? eta -:--:--\n",
      "   --- ----------------------------------- 30.7/300.2 kB 435.7 kB/s eta 0:00:01\n",
      "   --------- ----------------------------- 71.7/300.2 kB 563.7 kB/s eta 0:00:01\n",
      "   ----------------------- ---------------- 174.1/300.2 kB 1.1 MB/s eta 0:00:01\n",
      "   ---------------------------------------  297.0/300.2 kB 1.4 MB/s eta 0:00:01\n",
      "   ---------------------------------------- 300.2/300.2 kB 1.3 MB/s eta 0:00:00\n",
      "Installing collected packages: wordcloud\n",
      "Successfully installed wordcloud-1.9.3\n",
      "Note: you may need to restart the kernel to use updated packages.\n"
     ]
    },
    {
     "name": "stderr",
     "output_type": "stream",
     "text": [
      "\n",
      "[notice] A new release of pip is available: 24.0 -> 24.2\n",
      "[notice] To update, run: python.exe -m pip install --upgrade pip\n"
     ]
    }
   ],
   "source": [
    "pip install wordcloud"
   ]
  },
  {
   "cell_type": "code",
   "execution_count": 50,
   "id": "380c0623",
   "metadata": {},
   "outputs": [
    {
     "data": {
      "image/png": "[encoded data removed]",
      "text/plain": [
       "<Figure size 1000x500 with 1 Axes>"
      ]
     },
     "metadata": {},
     "output_type": "display_data"
    }
   ],
   "source": [
    "from wordcloud import WordCloud\n",
    "import matplotlib.pyplot as plt\n",
    "\n",
    "# Concatenate text from bias category and harmful content type for analysis\n",
    "text_data = ' '.join(df['Bias_category'].dropna().astype(str)) + ' ' + ' '.join(df['Harmful_content_type'].dropna().astype(str))\n",
    "\n",
    "# Generate a word cloud\n",
    "wordcloud = WordCloud(width=800, height=400, background_color='white').generate(text_data)\n",
    "\n",
    "# Visualize the word cloud\n",
    "plt.figure(figsize=(10, 5))\n",
    "plt.imshow(wordcloud, interpolation='bilinear')\n",
    "plt.axis('off')\n",
    "plt.show()\n"
   ]
  },
  {
   "cell_type": "code",
   "execution_count": 51,
   "id": "4c157e31",
   "metadata": {},
   "outputs": [
    {
     "name": "stdout",
     "output_type": "stream",
     "text": [
      "Note: you may need to restart the kernel to use updated packages.Collecting semopy\n",
      "  Downloading semopy-2.3.11.tar.gz (1.6 MB)\n",
      "     ---------------------------------------- 0.0/1.6 MB ? eta -:--:--\n",
      "     ---------------------------------------- 0.0/1.6 MB ? eta -:--:--\n",
      "      --------------------------------------- 0.0/1.6 MB 330.3 kB/s eta 0:00:05\n",
      "     - -------------------------------------- 0.0/1.6 MB 326.8 kB/s eta 0:00:05\n",
      "     -- ------------------------------------- 0.1/1.6 MB 656.4 kB/s eta 0:00:03\n",
      "     ----- ---------------------------------- 0.2/1.6 MB 981.9 kB/s eta 0:00:02\n",
      "     --------- ------------------------------ 0.4/1.6 MB 1.4 MB/s eta 0:00:01\n",
      "     ------------ --------------------------- 0.5/1.6 MB 1.7 MB/s eta 0:00:01\n",
      "     ---------------------- ----------------- 0.9/1.6 MB 2.6 MB/s eta 0:00:01\n",
      "     ---------------------------- ----------- 1.1/1.6 MB 3.0 MB/s eta 0:00:01\n",
      "     ------------------------------ --------- 1.2/1.6 MB 2.8 MB/s eta 0:00:01\n",
      "     ------------------------------------ --- 1.5/1.6 MB 3.1 MB/s eta 0:00:01\n",
      "     ---------------------------------------- 1.6/1.6 MB 3.2 MB/s eta 0:00:00\n",
      "  Preparing metadata (setup.py): started\n",
      "  Preparing metadata (setup.py): finished with status 'done'\n",
      "Requirement already satisfied: scipy in c:\\users\\trish\\anaconda3\\lib\\site-packages (from semopy) (1.11.1)\n",
      "Requirement already satisfied: numpy in c:\\users\\trish\\anaconda3\\lib\\site-packages (from semopy) (1.24.3)\n",
      "Requirement already satisfied: pandas in c:\\users\\trish\\anaconda3\\lib\\site-packages (from semopy) (2.0.3)\n",
      "Requirement already satisfied: sympy in c:\\users\\trish\\anaconda3\\lib\\site-packages (from semopy) (1.11.1)\n",
      "Requirement already satisfied: scikit-learn in c:\\users\\trish\\anaconda3\\lib\\site-packages (from semopy) (1.5.0)\n",
      "Requirement already satisfied: statsmodels in c:\\users\\trish\\anaconda3\\lib\\site-packages (from semopy) (0.14.0)\n",
      "Collecting numdifftools (from semopy)\n",
      "  Downloading numdifftools-0.9.41-py2.py3-none-any.whl.metadata (39 kB)\n",
      "Requirement already satisfied: python-dateutil>=2.8.2 in c:\\users\\trish\\anaconda3\\lib\\site-packages (from pandas->semopy) (2.8.2)\n",
      "Requirement already satisfied: pytz>=2020.1 in c:\\users\\trish\\anaconda3\\lib\\site-packages (from pandas->semopy) (2023.3.post1)\n",
      "Requirement already satisfied: tzdata>=2022.1 in c:\\users\\trish\\anaconda3\\lib\\site-packages (from pandas->semopy) (2023.3)\n",
      "Requirement already satisfied: joblib>=1.2.0 in c:\\users\\trish\\anaconda3\\lib\\site-packages (from scikit-learn->semopy) (1.2.0)\n",
      "Requirement already satisfied: threadpoolctl>=3.1.0 in c:\\users\\trish\\anaconda3\\lib\\site-packages (from scikit-learn->semopy) (3.5.0)\n",
      "Requirement already satisfied: patsy>=0.5.2 in c:\\users\\trish\\anaconda3\\lib\\site-packages (from statsmodels->semopy) (0.5.3)\n",
      "Requirement already satisfied: packaging>=21.3 in c:\\users\\trish\\anaconda3\\lib\\site-packages (from statsmodels->semopy) (23.1)\n",
      "Requirement already satisfied: mpmath>=0.19 in c:\\users\\trish\\anaconda3\\lib\\site-packages (from sympy->semopy) (1.3.0)\n",
      "Requirement already satisfied: six in c:\\users\\trish\\anaconda3\\lib\\site-packages (from patsy>=0.5.2->statsmodels->semopy) (1.16.0)\n",
      "Downloading numdifftools-0.9.41-py2.py3-none-any.whl (100 kB)\n",
      "   ---------------------------------------- 0.0/100.2 kB ? eta -:--:--\n",
      "   ---------------------------------------- 100.2/100.2 kB 5.6 MB/s eta 0:00:00\n",
      "Building wheels for collected packages: semopy\n",
      "  Building wheel for semopy (setup.py): started\n",
      "  Building wheel for semopy (setup.py): finished with status 'done'\n",
      "  Created wheel for semopy: filename=semopy-2.3.11-py3-none-any.whl size=1659707 sha256=ccfbd97b3c90fd71873290fed72a40f84d48f74d1ea5763a4564e6ff9ae39226\n",
      "  Stored in directory: c:\\users\\trish\\appdata\\local\\pip\\cache\\wheels\\d2\\9a\\31\\fae291ff6a649bad125037eef8c7cc63d8c542e14bdcccea37\n",
      "Successfully built semopy\n",
      "Installing collected packages: numdifftools, semopy\n",
      "Successfully installed numdifftools-0.9.41 semopy-2.3.11\n",
      "\n"
     ]
    },
    {
     "name": "stderr",
     "output_type": "stream",
     "text": [
      "\n",
      "[notice] A new release of pip is available: 24.0 -> 24.2\n",
      "[notice] To update, run: python.exe -m pip install --upgrade pip\n"
     ]
    }
   ],
   "source": [
    "pip install semopy\n"
   ]
  },
  {
   "cell_type": "code",
   "execution_count": 64,
   "id": "07506484",
   "metadata": {},
   "outputs": [
    {
     "name": "stdout",
     "output_type": "stream",
     "text": [
      "               lval  op              rval  Estimate  Std. Err   z-value  \\\n",
      "0  AI_usage_encoded   ~          Accuracy  0.141412  0.172650  0.819065   \n",
      "1  AI_usage_encoded   ~  Security_encoded -0.532954  0.271158 -1.965474   \n",
      "2          Accuracy  ~~          Accuracy  0.611570  0.237751  2.572313   \n",
      "3  AI_usage_encoded  ~~  AI_usage_encoded  0.182823  0.077956  2.345208   \n",
      "\n",
      "    p-value  \n",
      "0  0.412750  \n",
      "1  0.049359  \n",
      "2  0.010102  \n",
      "3  0.019016  \n"
     ]
    }
   ],
   "source": [
    "import pandas as pd\n",
    "from semopy import Model\n",
    "\n",
    "# Encode AI_usage and Security \n",
    "df['AI_usage_encoded'] = df['AI_usage'].map({'No': 0, 'Yes': 1})\n",
    "df['Security_encoded'] = df['Security'].map({'No': 0, 'Yes': 1})\n",
    "\n",
    "# Define the SEM model\n",
    "model_desc = '''\n",
    "  AI_usage_encoded ~ Accuracy + Security_encoded\n",
    "  Accuracy ~~ Accuracy\n",
    "'''\n",
    "\n",
    "# Prepare data \n",
    "model_data = df[['AI_usage_encoded', 'Accuracy', 'Security_encoded']].dropna()\n",
    "\n",
    "# Fit the SEM model\n",
    "model = Model(model_desc)\n",
    "model.fit(model_data)\n",
    "\n",
    "# Output the model summary\n",
    "print(model.inspect())\n"
   ]
  },
  {
   "cell_type": "markdown",
   "id": "2d1230a8",
   "metadata": {},
   "source": [
    "For Security Encoded: The p-value is **0.049359** just below 0.05, indicating that this relationship is statistically significant. This implies that perceptions of security may negatively impact the use of AI. If users feel insecure about the AI, they are less likely to use it. \n",
    "\n",
    "However, for Accuracy, the P-value of **0.412750** there is no significant relationship between Accuracy and AI usage\n"
   ]
  },
  {
   "cell_type": "code",
   "execution_count": 70,
   "id": "34b21ee6",
   "metadata": {},
   "outputs": [
    {
     "name": "stdout",
     "output_type": "stream",
     "text": [
      "               lval  op              rval  Estimate  Std. Err   z-value  \\\n",
      "0  AI_usage_encoded   ~           Quality -0.020929  0.058333 -0.358789   \n",
      "1  AI_usage_encoded   ~      Bias_encoded  0.174746  0.089202  1.958997   \n",
      "2  AI_usage_encoded  ~~  AI_usage_encoded  0.190409  0.025110  7.582875   \n",
      "\n",
      "        p-value  \n",
      "0  7.197529e-01  \n",
      "1  5.011318e-02  \n",
      "2  3.375078e-14  \n"
     ]
    }
   ],
   "source": [
    "import pandas as pd\n",
    "from semopy import Model\n",
    "\n",
    "# Load the dataset\n",
    "file_path = r'C:\\Users\\Trish\\Downloads\\Data (1).xlsx'\n",
    "df = pd.read_excel(file_path)\n",
    "\n",
    "#clean data by removing any leading and trailing spaces\n",
    "df.columns = df.columns.str.strip()\n",
    "\n",
    "# Encode AI_usage and Bias\n",
    "df['AI_usage_encoded'] = df['AI_usage'].map({'No': 0, 'Yes': 1})\n",
    "df['Bias_encoded'] = df['Bias'].map({'No': 0, 'Yes': 1})\n",
    "\n",
    "# Prepare the data\n",
    "model_data = df[['AI_usage_encoded', 'Quality', 'Bias_encoded']].dropna()\n",
    "\n",
    "# Define the SEM model\n",
    "model_desc = '''\n",
    "  AI_usage_encoded ~ Quality + Bias_encoded\n",
    "'''\n",
    "\n",
    "# Fit the SEM model\n",
    "model = Model(model_desc)\n",
    "model.fit(model_data)\n",
    "\n",
    "# Output the model summary\n",
    "print(model.inspect())\n"
   ]
  },
  {
   "cell_type": "markdown",
   "id": "56eb1cb0",
   "metadata": {},
   "source": [
    "**(Quality (p-value = 0.719753)**: This p-value indicates no significant relationship between quality and AI usage. Users' perceptions of quality do not significantly influence their likelihood of using AI.\n",
    "\n",
    "**Bias_encoded (p-value = 0.050113)**: This p-value is very close to the 0.05 threshold, suggesting a significant relationship. It implies that perceptions of bias may positively impact the use of AI, although the evidence is weaker compared to the security aspect."
   ]
  },
  {
   "cell_type": "code",
   "execution_count": null,
   "id": "4e265efd",
   "metadata": {},
   "outputs": [],
   "source": []
  }
 ],
 "metadata": {
  "kernelspec": {
   "display_name": "Python 3 (ipykernel)",
   "language": "python",
   "name": "python3"
  },
  "language_info": {
   "codemirror_mode": {
    "name": "ipython",
    "version": 3
   },
   "file_extension": ".py",
   "mimetype": "text/x-python",
   "name": "python",
   "nbconvert_exporter": "python",
   "pygments_lexer": "ipython3",
   "version": "3.11.5"
  }
 },
 "nbformat": 4,
 "nbformat_minor": 5
}
